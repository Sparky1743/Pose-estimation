{
 "cells": [
  {
   "cell_type": "code",
   "execution_count": 1,
   "id": "a7d87579",
   "metadata": {},
   "outputs": [],
   "source": [
    "import cv2\n",
    "import mediapipe as mp\n",
    "import numpy as np\n",
    "import pandas as pd\n",
    "from moviepy.editor import VideoFileClip"
   ]
  },
  {
   "cell_type": "code",
   "execution_count": 2,
   "id": "f70b1a5c",
   "metadata": {},
   "outputs": [],
   "source": [
    "def remove_audio(video_path, output_path):\n",
    "    video_clip = VideoFileClip(video_path)\n",
    "    \n",
    "    video_clip = video_clip.without_audio()\n",
    "\n",
    "    video_clip.write_videofile(output_path, codec='libx264', audio_codec='aac')\n",
    "\n",
    "    video_clip.close()\n",
    "\n",
    "\n",
    "def check_video_properties(video_path, video_path2):\n",
    "    original_clip = VideoFileClip(video_path)\n",
    "\n",
    "    original_duration = original_clip.duration\n",
    "    original_fps = original_clip.fps\n",
    "    original_resolution = original_clip.size\n",
    "\n",
    "    original_clip.close()\n",
    "\n",
    "    modified_clip = VideoFileClip(video_path2)\n",
    "\n",
    "    modified_duration = modified_clip.duration\n",
    "    modified_fps = modified_clip.fps\n",
    "    modified_resolution = modified_clip.size\n",
    "\n",
    "    modified_clip.close()\n",
    "\n",
    "    if original_duration == modified_duration:\n",
    "        print(\"Duration preserved.\")\n",
    "        print(\"duration == \", modified_duration)\n",
    "    else:\n",
    "        print(\"Duration not preserved.\")\n",
    "\n",
    "    if original_fps == modified_fps:\n",
    "        print(\"Frame rate (fps) preserved.\")\n",
    "        print(\"fps == \", modified_fps)\n",
    "    else:\n",
    "        print(\"Frame rate (fps) not preserved.\")\n",
    "\n",
    "    if original_resolution == modified_resolution:\n",
    "        print(\"Resolution preserved.\")\n",
    "        print(\"resolution == \", modified_resolution)\n",
    "    else:\n",
    "        print(\"Resolution not preserved.\")\n"
   ]
  },
  {
   "cell_type": "code",
   "execution_count": 3,
   "id": "66e27418",
   "metadata": {},
   "outputs": [
    {
     "name": "stdout",
     "output_type": "stream",
     "text": [
      "Enter file name: Samay(Test_5)\n",
      "Moviepy - Building video C:\\Users\\birud\\OneDrive - iitgn.ac.in\\github\\Pose-estimation\\files\\CS - 299 (Sem2) Project\\Processed Videos\\Samay(Test_5)_no_audio.mp4.\n",
      "Moviepy - Writing video C:\\Users\\birud\\OneDrive - iitgn.ac.in\\github\\Pose-estimation\\files\\CS - 299 (Sem2) Project\\Processed Videos\\Samay(Test_5)_no_audio.mp4\n",
      "\n"
     ]
    },
    {
     "name": "stderr",
     "output_type": "stream",
     "text": [
      "                                                                                                                       \r"
     ]
    },
    {
     "name": "stdout",
     "output_type": "stream",
     "text": [
      "Moviepy - Done !\n",
      "Moviepy - video ready C:\\Users\\birud\\OneDrive - iitgn.ac.in\\github\\Pose-estimation\\files\\CS - 299 (Sem2) Project\\Processed Videos\\Samay(Test_5)_no_audio.mp4\n",
      "Duration preserved.\n",
      "duration ==  31.02\n",
      "Frame rate (fps) preserved.\n",
      "fps ==  200.0\n",
      "Resolution preserved.\n",
      "resolution ==  [1920, 1080]\n"
     ]
    }
   ],
   "source": [
    "inp = input(\"Enter file name: \", )\n",
    "\n",
    "input_video_path = r\"C:\\Users\\birud\\OneDrive - iitgn.ac.in\\github\\Pose-estimation\\files\\CS - 299 (Sem2) Project\\Video Data\\%s.MP4\" % (inp)\n",
    "output_video_path = r\"C:\\Users\\birud\\OneDrive - iitgn.ac.in\\github\\Pose-estimation\\files\\CS - 299 (Sem2) Project\\Processed Videos\\%s_no_audio.mp4\" % (inp)\n",
    "excel_path = r\"C:\\Users\\birud\\OneDrive - iitgn.ac.in\\github\\Pose-estimation\\files\\CS - 299 (Sem2) Project\\Processed Videos\\coordinate_excels\\%s_no_audio.xlsx\" % (inp)\n",
    "\n",
    "remove_audio(input_video_path, output_video_path)\n",
    "check_video_properties(input_video_path, output_video_path)"
   ]
  },
  {
   "cell_type": "code",
   "execution_count": 4,
   "id": "1b554c35",
   "metadata": {},
   "outputs": [
    {
     "name": "stdout",
     "output_type": "stream",
     "text": [
      "(6204, 20)\n",
      "Frames:6204\n"
     ]
    }
   ],
   "source": [
    "mp_drawing = mp.solutions.drawing_utils\n",
    "mp_pose = mp.solutions.pose\n",
    "\n",
    "all_coordinates = []\n",
    "\n",
    "cap = cv2.VideoCapture(output_video_path)\n",
    "count = 0\n",
    "with mp_pose.Pose(min_detection_confidence = 0.5, min_tracking_confidence = 0.5) as pose:\n",
    "    while cap.isOpened():\n",
    "        ret,frame = cap.read()\n",
    "        if frame is None:\n",
    "            break\n",
    "        coordinates = []\n",
    "        image = cv2.cvtColor(frame, cv2.COLOR_BGR2RGB)\n",
    "        image.flags.writeable = False\n",
    "\n",
    "        results = pose.process(image)\n",
    "        count = count + 1\n",
    "\n",
    "        image.flags.writeable = True\n",
    "        image = cv2.cvtColor(image, cv2.COLOR_RGB2BGR)\n",
    "\n",
    "        mp_drawing.draw_landmarks(image, results.pose_landmarks, mp_pose.POSE_CONNECTIONS)\n",
    "\n",
    "        try:\n",
    "            landmarks = results.pose_landmarks.landmark \n",
    "        except:\n",
    "            pass\n",
    "        \n",
    "        # coordinates = [\n",
    "        #         [landmarks[mp_pose.PoseLandmark.LEFT_HIP.value].x, landmarks[mp_pose.PoseLandmark.LEFT_HIP.value].y],\n",
    "        #         [landmarks[mp_pose.PoseLandmark.RIGHT_HIP.value].x, landmarks[mp_pose.PoseLandmark.RIGHT_HIP.value].y],\n",
    "        #         [landmarks[mp_pose.PoseLandmark.LEFT_KNEE.value].x, landmarks[mp_pose.PoseLandmark.LEFT_KNEE.value].y],\n",
    "        #         [landmarks[mp_pose.PoseLandmark.RIGHT_KNEE.value].x, landmarks[mp_pose.PoseLandmark.RIGHT_KNEE.value].y],\n",
    "        #         [landmarks[mp_pose.PoseLandmark.LEFT_ANKLE.value].x, landmarks[mp_pose.PoseLandmark.LEFT_ANKLE.value].y],\n",
    "        #         [landmarks[mp_pose.PoseLandmark.RIGHT_ANKLE.value].x, landmarks[mp_pose.PoseLandmark.RIGHT_ANKLE.value].y],\n",
    "        #         [landmarks[mp_pose.PoseLandmark.LEFT_HEEL.value].x, landmarks[mp_pose.PoseLandmark.LEFT_HEEL.value].y],\n",
    "        #         [landmarks[mp_pose.PoseLandmark.RIGHT_HEEL.value].x, landmarks[mp_pose.PoseLandmark.RIGHT_HEEL.value].y],\n",
    "        #         [landmarks[mp_pose.PoseLandmark.LEFT_FOOT_INDEX.value].x, landmarks[mp_pose.PoseLandmark.LEFT_FOOT_INDEX.value].y],\n",
    "        #         [landmarks[mp_pose.PoseLandmark.RIGHT_FOOT_INDEX.value].x, landmarks[mp_pose.PoseLandmark.RIGHT_FOOT_INDEX.value].y],\n",
    "        #         ]\n",
    "    \n",
    "        coordinates.append((landmarks[mp_pose.PoseLandmark.LEFT_HIP.value].x))\n",
    "        coordinates.append((landmarks[mp_pose.PoseLandmark.LEFT_HIP.value].y))\n",
    "        coordinates.append((landmarks[mp_pose.PoseLandmark.RIGHT_HIP.value].x))\n",
    "        coordinates.append((landmarks[mp_pose.PoseLandmark.RIGHT_HIP.value].y))\n",
    "        coordinates.append((landmarks[mp_pose.PoseLandmark.LEFT_KNEE.value].x))\n",
    "        coordinates.append((landmarks[mp_pose.PoseLandmark.LEFT_KNEE.value].y))\n",
    "        coordinates.append((landmarks[mp_pose.PoseLandmark.RIGHT_KNEE.value].x))\n",
    "        coordinates.append((landmarks[mp_pose.PoseLandmark.RIGHT_KNEE.value].y))\n",
    "        coordinates.append((landmarks[mp_pose.PoseLandmark.LEFT_ANKLE.value].x))\n",
    "        coordinates.append((landmarks[mp_pose.PoseLandmark.LEFT_ANKLE.value].y))\n",
    "        coordinates.append((landmarks[mp_pose.PoseLandmark.RIGHT_ANKLE.value].x))\n",
    "        coordinates.append((landmarks[mp_pose.PoseLandmark.RIGHT_ANKLE.value].y))\n",
    "        coordinates.append((landmarks[mp_pose.PoseLandmark.LEFT_HEEL.value].x))\n",
    "        coordinates.append((landmarks[mp_pose.PoseLandmark.LEFT_HEEL.value].y))\n",
    "        coordinates.append((landmarks[mp_pose.PoseLandmark.RIGHT_HEEL.value].x))\n",
    "        coordinates.append((landmarks[mp_pose.PoseLandmark.RIGHT_HEEL.value].y))\n",
    "        coordinates.append((landmarks[mp_pose.PoseLandmark.LEFT_FOOT_INDEX.value].x))\n",
    "        coordinates.append((landmarks[mp_pose.PoseLandmark.LEFT_FOOT_INDEX.value].y))\n",
    "        coordinates.append((landmarks[mp_pose.PoseLandmark.RIGHT_FOOT_INDEX.value].x))\n",
    "        coordinates.append((landmarks[mp_pose.PoseLandmark.RIGHT_FOOT_INDEX.value].y))\n",
    "\n",
    "\n",
    "        # coordinates.append((landmarks[mp_pose.PoseLandmark.RIGHT_FOOT_INDEX.value].z))\n",
    "        \n",
    "\n",
    "        all_coordinates.append(coordinates)\n",
    "\n",
    "        \n",
    "        mp_drawing.draw_landmarks(image, results.pose_landmarks, mp_pose.POSE_CONNECTIONS,\n",
    "                                mp_drawing.DrawingSpec(color=(245,117,66), thickness=2, circle_radius=2),\n",
    "                                mp_drawing.DrawingSpec(color=(245,66,230), thickness=2, circle_radius=2) \n",
    "                                )\n",
    "        \n",
    "        # cv2.imshow('Mediapipe Feed', image)\n",
    "\n",
    "        if cv2.waitKey(10) & 0xFF == ord('q'):\n",
    "            break\n",
    "\n",
    "all_coordinates = np.array(all_coordinates)\n",
    "df = pd.DataFrame(all_coordinates)\n",
    "print(all_coordinates.shape)\n",
    "# all_coordinates = all_coordinates[:,:,0]\n",
    "print(\"Frames:\" + str(count))\n",
    "# print(all_coordinates)\n",
    "# print(all_coordinates.shape)\n",
    "df.to_excel(excel_path, index=False)\n",
    "cap.release()\n",
    "cv2.destroyAllWindows()"
   ]
  }
 ],
 "metadata": {
  "kernelspec": {
   "display_name": "Python 3 (ipykernel)",
   "language": "python",
   "name": "python3"
  },
  "language_info": {
   "codemirror_mode": {
    "name": "ipython",
    "version": 3
   },
   "file_extension": ".py",
   "mimetype": "text/x-python",
   "name": "python",
   "nbconvert_exporter": "python",
   "pygments_lexer": "ipython3",
   "version": "3.7.3"
  }
 },
 "nbformat": 4,
 "nbformat_minor": 5
}
